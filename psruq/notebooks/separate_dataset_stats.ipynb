{
 "cells": [
  {
   "cell_type": "code",
   "execution_count": null,
   "id": "8ea00292-4bee-4889-b520-9b23dbda5636",
   "metadata": {},
   "outputs": [],
   "source": [
    "import numpy as np\n",
    "from source.source.postprocessing_utils import get_metrics_results\n",
    "from source.source.table_utils import pretty_matplotlib_config\n",
    "import matplotlib.pyplot as plt\n",
    "import seaborn as sns\n",
    "import pandas as pd\n",
    "pd.set_option('display.max_rows', None)"
   ]
  },
  {
   "cell_type": "code",
   "execution_count": null,
   "id": "281e8e27-0c77-45f8-9487-6cf05d45d65e",
   "metadata": {},
   "outputs": [],
   "source": [
    "architecture = 'resnet18' # vgg resnet18\n",
    "training_dataset_name = 'cifar10' # 'cifar10' 'cifar100' 'noisy_cifar10' 'noisy_cifar100' 'missed_class_cifar10'\n",
    "if training_dataset_name not in ['missed_class_cifar10', 'noisy_cifar10', 'noisy_cifar100']:\n",
    "    dataset_name_to_extract_from = training_dataset_name\n",
    "else:\n",
    "    dataset_name_to_extract_from = training_dataset_name.split('_')[-1]\n",
    "print(dataset_name_to_extract_from)\n",
    "\n",
    "temperature = 1.\n",
    "\n",
    "model_ids = np.arange(20)\n",
    "# model_ids = np.arange(6)\n",
    "\n",
    "list_extraction_datasets=['cifar10', 'cifar100', 'svhn', 'blurred_cifar100', 'blurred_cifar10']\n",
    "list_ood_datasets = [el for el in list_extraction_datasets]\n",
    "loss_function_names = [\n",
    "    'brier_score',\n",
    "    'cross_entropy',\n",
    "    'spherical_score'\n",
    "]\n",
    "\n",
    "use_different_approximations = False #########\n",
    "gt_prob_approx = 'same' # same as the predictive prob approximation\n",
    "# gt_prob_approx = 'flat' # uniform\n",
    "# gt_prob_approx = 'diracs' # mixture of diracs\n",
    "# gt_prob_approx = 'random' # random samples"
   ]
  },
  {
   "cell_type": "code",
   "execution_count": null,
   "id": "4fc5b439-4b07-43d0-86bc-6a8f5c6745d3",
   "metadata": {},
   "outputs": [],
   "source": [
    "metrics_df = get_metrics_results(\n",
    "    loss_function_names=loss_function_names,\n",
    "    training_dataset_name=training_dataset_name,\n",
    "    architecture=architecture,\n",
    "    model_ids=model_ids,\n",
    ")\n",
    "\n",
    "\n",
    "pretty_matplotlib_config(fontsize=25, fonttype=42)\n",
    "# Set up the matplotlib figure\n",
    "plt.figure(figsize=(12, 8), dpi=150)\n",
    "\n",
    "# Draw a nested violinplot\n",
    "sns.violinplot(data=metrics_df, x=\"Metric\", y=\"Value\", hue=\"Loss Function\", linewidth=1.5)\n",
    "plt.title('Distribution of Evaluation Metrics for Ensemble Members by Loss Function')\n",
    "plt.ylabel('Metric Value')\n",
    "plt.xlabel('Evaluation Metric')\n",
    "plt.legend(title='Loss Function')\n",
    "\n",
    "plt.tight_layout()\n",
    "plt.savefig(f'imgs/trainstats_{architecture}_{training_dataset_name}.pdf')\n",
    "plt.show()\n"
   ]
  }
 ],
 "metadata": {
  "kernelspec": {
   "display_name": "Python 3 (ipykernel)",
   "language": "python",
   "name": "python3"
  },
  "language_info": {
   "codemirror_mode": {
    "name": "ipython",
    "version": 3
   },
   "file_extension": ".py",
   "mimetype": "text/x-python",
   "name": "python",
   "nbconvert_exporter": "python",
   "pygments_lexer": "ipython3",
   "version": "3.11.8"
  }
 },
 "nbformat": 4,
 "nbformat_minor": 5
}
