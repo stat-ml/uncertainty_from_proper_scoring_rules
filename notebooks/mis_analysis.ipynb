{
 "cells": [
  {
   "cell_type": "code",
   "execution_count": null,
   "id": "68f2f490-4df5-467c-8745-36a22a7790e9",
   "metadata": {},
   "outputs": [],
   "source": [
    "from source.source.table_utils import (\n",
    "    collect_scores_into_dict_miss,\n",
    "    extract_same_different_dataframes,\n",
    "    aggregate_over_measures,\n",
    ")\n",
    "import pandas as pd\n",
    "from IPython.display import display\n",
    "\n",
    "pd.set_option(\"display.max_rows\", None)"
   ]
  },
  {
   "cell_type": "code",
   "execution_count": 3,
   "id": "b1198b55-1d45-4ad9-9432-2530e21b103d",
   "metadata": {},
   "outputs": [],
   "source": [
    "full_mis_rocauc = pd.read_csv(\"../../tables/full_mis_rocauc.csv\", index_col=0)"
   ]
  },
  {
   "cell_type": "code",
   "execution_count": null,
   "id": "f087165e-3411-41d7-a689-1c9d1f3757db",
   "metadata": {},
   "outputs": [],
   "source": [
    "full_mis_rocauc = full_mis_rocauc[~full_mis_rocauc.UQMetric.str.endswith(\"Inner Inner\")]\n",
    "\n",
    "full_mis_rocauc.loc[\n",
    "    (full_mis_rocauc.RiskType == \"Bayes\")\n",
    "    & full_mis_rocauc.UQMetric.str.endswith(\"Outer\"),\n",
    "    \"RiskType\",\n",
    "] = \"Bayes Outer\"\n",
    "full_mis_rocauc.loc[\n",
    "    (full_mis_rocauc.RiskType == \"Bayes\")\n",
    "    & full_mis_rocauc.UQMetric.str.endswith(\"Inner\"),\n",
    "    \"RiskType\",\n",
    "] = \"Bayes Inner\"\n",
    "\n",
    "full_mis_rocauc.loc[\n",
    "    (full_mis_rocauc.RiskType == \"Total\")\n",
    "    & full_mis_rocauc.UQMetric.str.endswith(\"Outer\"),\n",
    "    \"RiskType\",\n",
    "] = \"Total Outer\"\n",
    "full_mis_rocauc.loc[\n",
    "    (full_mis_rocauc.RiskType == \"Total\")\n",
    "    & full_mis_rocauc.UQMetric.str.endswith(\"Inner\"),\n",
    "    \"RiskType\",\n",
    "] = \"Total Inner\""
   ]
  },
  {
   "cell_type": "code",
   "execution_count": null,
   "id": "2766ad9e-e869-43d6-a767-1538d4de2e2f",
   "metadata": {
    "scrolled": true
   },
   "outputs": [],
   "source": [
    "# trunc_df = full_mis_rocauc[\n",
    "# ~full_mis_rocauc.RiskType.isin(['Bias', 'MV', 'MVBI', 'BiasBI', 'Bregman Information', 'Reverse Bregman Information'])\n",
    "# # full_mis_rocauc.base_rule.isin(['Brier', 'Logscore', 'Spherical']) &\n",
    "# # full_mis_rocauc.LossFunction.isin(['Brier', 'Logscore', 'Spherical']) &\n",
    "# # ~(np.isclose(full_mis_rocauc.RocAucScore, np.float64(0.5)))\n",
    "# ]\n",
    "\n",
    "# # trunc_df.sort_values(by='RocAucScore')\n",
    "\n",
    "# trunc_df.to_csv(os.path.join('tables', 'full_mis_rocauc_only_risks.csv'), index=False)"
   ]
  },
  {
   "cell_type": "code",
   "execution_count": null,
   "id": "c3124af6-13d5-4195-b50c-418b2f120d02",
   "metadata": {},
   "outputs": [],
   "source": [
    "grouped_df = extract_same_different_dataframes(\n",
    "    dataframe_=full_mis_rocauc,\n",
    ")"
   ]
  },
  {
   "cell_type": "code",
   "execution_count": null,
   "id": "ab932668-3483-4e74-b542-5ae9f4c83c7f",
   "metadata": {},
   "outputs": [],
   "source": [
    "same_dict, _ = collect_scores_into_dict_miss(\n",
    "    dataframes_list_=[\n",
    "        grouped_df.logscore_logscore,\n",
    "        grouped_df.brier_brier,\n",
    "        grouped_df.spherical_spherical,\n",
    "    ],\n",
    ")\n",
    "same_df = pd.DataFrame.from_dict(same_dict)\n",
    "\n",
    "same_agg_df = aggregate_over_measures(\n",
    "    dataframe_=same_df,\n",
    "    agg_func_=\"mean\",\n",
    "    by_=[\"InD\"],\n",
    ")"
   ]
  },
  {
   "cell_type": "code",
   "execution_count": null,
   "id": "509ec612-1455-4cff-9c39-d4f128178a72",
   "metadata": {},
   "outputs": [],
   "source": [
    "different_dict, _ = collect_scores_into_dict_miss(\n",
    "    dataframes_list_=[\n",
    "        grouped_df.logscore_not_logscore,\n",
    "        grouped_df.brier_not_brier,\n",
    "        grouped_df.spherical_not_spherical,\n",
    "    ],\n",
    ")\n",
    "different_df = pd.DataFrame.from_dict(different_dict)\n",
    "\n",
    "different_agg_df = aggregate_over_measures(\n",
    "    dataframe_=different_df,\n",
    "    agg_func_=\"mean\",\n",
    "    by_=[\"InD\"],\n",
    ")"
   ]
  },
  {
   "cell_type": "code",
   "execution_count": null,
   "id": "3d52cb31-1c25-4655-88e9-1c12286643aa",
   "metadata": {},
   "outputs": [],
   "source": [
    "all_dict, _ = collect_scores_into_dict_miss(\n",
    "    dataframes_list_=[\n",
    "        full_mis_rocauc,\n",
    "    ],\n",
    ")\n",
    "all_df = pd.DataFrame.from_dict(all_dict)\n",
    "\n",
    "all_agg_df = aggregate_over_measures(\n",
    "    dataframe_=all_df,\n",
    "    agg_func_=\"mean\",\n",
    "    by_=[\"InD\"],\n",
    ")"
   ]
  },
  {
   "cell_type": "code",
   "execution_count": null,
   "id": "59281968-84ab-48d7-b5b5-d678ab8d97aa",
   "metadata": {},
   "outputs": [],
   "source": [
    "display(all_agg_df)\n",
    "display(same_agg_df)\n",
    "display(different_agg_df)"
   ]
  },
  {
   "cell_type": "code",
   "execution_count": null,
   "id": "57cd4d55-112b-44b9-a795-a4fee6103d45",
   "metadata": {},
   "outputs": [],
   "source": [
    "same_agg_df.index"
   ]
  },
  {
   "cell_type": "code",
   "execution_count": null,
   "id": "fe7364a1-4b3d-480c-a812-77874c1b3af6",
   "metadata": {},
   "outputs": [],
   "source": [
    "def enhance_latex_table(input_latex):\n",
    "    lines = input_latex.split(\"\\n\")\n",
    "    enhanced_lines = []\n",
    "\n",
    "    for i, line in enumerate(lines):\n",
    "        if \"\\\\toprule\" in line:\n",
    "            # Add multicolumn headers\n",
    "            enhanced_lines.append(line)\n",
    "            enhanced_lines.append(\n",
    "                r\"\\multicolumn{2}{c}{Dataset} & \\multicolumn{5}{c}{Metrics} \\\\\"\n",
    "            )\n",
    "            enhanced_lines.append(r\"\\cmidrule(lr){1-2} \\cmidrule(lr){3-7}\")\n",
    "            continue\n",
    "\n",
    "        # Add row coloring\n",
    "        if \"\\\\midrule\" in line:\n",
    "            enhanced_lines.append(line)\n",
    "            enhanced_lines.append(r\"\\rowcolor{gray!10}\")\n",
    "        elif \"\\\\bottomrule\" in line:\n",
    "            enhanced_lines.append(r\"\\end{tabular}\")\n",
    "        else:\n",
    "            enhanced_lines.append(line)\n",
    "\n",
    "    return \"\\n\".join(enhanced_lines)\n",
    "\n",
    "\n",
    "def get_nice_df(df_):\n",
    "    df_.index = pd.Index(\n",
    "        data=[\n",
    "            \"CIFAR10\",\n",
    "            \"CIFAR100\",\n",
    "            \"Missed class CIFAR10\",\n",
    "            \"Noisy CIFAR10\",\n",
    "            \"Noisy CIFAR100\",\n",
    "        ],\n",
    "        name=\"InD\",\n",
    "    )\n",
    "    df_.columns = [\n",
    "        # 'Bayes',\n",
    "        # 'Excess',\n",
    "        # 'Total',\n",
    "        \"Bayes(O)\",\n",
    "        \"Bayes(I)\",\n",
    "        \"Total(O)\",\n",
    "        \"Total(I)\",\n",
    "        \"BI\",\n",
    "        \"RBI\",\n",
    "        \"EPBI\",\n",
    "        # 'Bias',\n",
    "        # 'MV',\n",
    "        # 'MVBI',\n",
    "        # 'BiasBI',\n",
    "    ]\n",
    "    # df_ = df_[['Bayes', 'Excess', 'Total', 'BI', 'RBI']]\n",
    "    df_ = (100 * df_).round(2)\n",
    "\n",
    "    display(df_)\n",
    "\n",
    "    return df_, df_.to_latex(float_format=\"%.2f\")"
   ]
  },
  {
   "cell_type": "code",
   "execution_count": null,
   "id": "0f22c426-53c8-4735-92f1-1af2ea06fe61",
   "metadata": {},
   "outputs": [],
   "source": [
    "measures = [\n",
    "    \"Bayes Outer\",\n",
    "    \"Bayes Inner\",\n",
    "    \"Total Outer\",\n",
    "    \"Total Inner\",\n",
    "    \"Bregman Information\",\n",
    "    \"Reverse Bregman Information\",\n",
    "    \"Expected Pairwise Bregman Information\",\n",
    "]\n",
    "\n",
    "# measures = ['Bayes', 'Excess', 'Total', 'Bregman Information', 'Reverse Bregman Information', 'Expected Pairwise Bregman Information']"
   ]
  },
  {
   "cell_type": "code",
   "execution_count": null,
   "id": "2cd94a7d-6c37-49dc-b97a-1b8000c3161d",
   "metadata": {},
   "outputs": [],
   "source": [
    "nice_same = get_nice_df(same_agg_df.copy()[measures])\n",
    "print(enhance_latex_table(nice_same[1]))"
   ]
  },
  {
   "cell_type": "code",
   "execution_count": null,
   "id": "8313933e-30cc-4ed2-9421-c0f23a9fbfed",
   "metadata": {},
   "outputs": [],
   "source": [
    "nice_different = get_nice_df(different_agg_df.copy()[measures])\n",
    "print(enhance_latex_table(nice_different[1]))"
   ]
  },
  {
   "cell_type": "code",
   "execution_count": null,
   "id": "c07fdff8-268c-4ad0-9075-0809f4c0c095",
   "metadata": {},
   "outputs": [],
   "source": [
    "print(\n",
    "    enhance_latex_table(\n",
    "        pd.concat([nice_same[0], nice_different[0]], axis=1).to_latex(\n",
    "            float_format=\"%.2f\"\n",
    "        )\n",
    "    )\n",
    ")"
   ]
  },
  {
   "cell_type": "code",
   "execution_count": null,
   "id": "d981c020-496e-45b5-8b38-804dd7a55fd8",
   "metadata": {},
   "outputs": [],
   "source": [
    "nice_same[0].mean()"
   ]
  },
  {
   "cell_type": "code",
   "execution_count": null,
   "id": "905661a5-5faf-4b0e-8e24-fa5e8f89a66b",
   "metadata": {},
   "outputs": [],
   "source": [
    "nice_same[0].std()"
   ]
  },
  {
   "cell_type": "code",
   "execution_count": null,
   "id": "952aef89-6a01-4cab-8f86-6101663ea673",
   "metadata": {},
   "outputs": [],
   "source": [
    "nice_different[0].mean()"
   ]
  },
  {
   "cell_type": "code",
   "execution_count": null,
   "id": "14e0dc7d-a5bf-40f5-9c79-5aa899e790e4",
   "metadata": {},
   "outputs": [],
   "source": [
    "nice_different[0].std()"
   ]
  },
  {
   "cell_type": "code",
   "execution_count": null,
   "id": "350fd577-0c2b-4dd9-bdd3-a090202e927c",
   "metadata": {},
   "outputs": [],
   "source": [
    "same_agg_df.eq(same_agg_df.max(axis=1), axis=0)"
   ]
  },
  {
   "cell_type": "code",
   "execution_count": null,
   "id": "6808ec30-e50e-4ca1-8a31-1011a2ac7246",
   "metadata": {},
   "outputs": [],
   "source": [
    "different_agg_df.eq(different_agg_df.max(axis=1), axis=0)"
   ]
  },
  {
   "cell_type": "code",
   "execution_count": null,
   "id": "9cb57da5-48b0-463d-85b9-61de7fa6084e",
   "metadata": {},
   "outputs": [],
   "source": [
    "all_agg_df.eq(all_agg_df.max(axis=1), axis=0)"
   ]
  },
  {
   "cell_type": "code",
   "execution_count": null,
   "id": "ac98d379-05e3-4a33-b2e3-c96fbdfb61d3",
   "metadata": {},
   "outputs": [],
   "source": [
    "(same_agg_df - different_agg_df) > 0"
   ]
  }
 ],
 "metadata": {
  "kernelspec": {
   "display_name": "Python 3 (ipykernel)",
   "language": "python",
   "name": "python3"
  },
  "language_info": {
   "codemirror_mode": {
    "name": "ipython",
    "version": 3
   },
   "file_extension": ".py",
   "mimetype": "text/x-python",
   "name": "python",
   "nbconvert_exporter": "python",
   "pygments_lexer": "ipython3",
   "version": "3.11.8"
  }
 },
 "nbformat": 4,
 "nbformat_minor": 5
}
